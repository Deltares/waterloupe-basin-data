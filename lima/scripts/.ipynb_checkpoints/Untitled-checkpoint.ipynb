{
 "cells": [
  {
   "cell_type": "code",
   "execution_count": 42,
   "id": "3356204e",
   "metadata": {
    "scrolled": false
   },
   "outputs": [
    {
     "name": "stdout",
     "output_type": "stream",
     "text": [
      "['jan-10' 'feb-10' 'mrt-10' 'apr-10' 'mei-10' 'jun-10' 'jul-10' 'aug-10'\n",
      " 'sep-10' 'okt-10' 'nov-10' 'dec-10' 'jan-11' 'feb-11' 'mrt-11' 'apr-11'\n",
      " 'mei-11' 'jun-11' 'jul-11' 'aug-11' 'sep-11' 'okt-11' 'nov-11' 'dec-11'\n",
      " 'jan-12' 'feb-12' 'mrt-12' 'apr-12' 'mei-12' 'jun-12' 'jul-12' 'aug-12'\n",
      " 'sep-12' 'okt-12' 'nov-12' 'dec-12' 'jan-13' 'feb-13' 'mrt-13' 'apr-13'\n",
      " 'mei-13' 'jun-13' 'jul-13' 'aug-13' 'sep-13' 'okt-13' 'nov-13' 'dec-13'\n",
      " 'jan-14' 'feb-14' 'mrt-14' 'apr-14' 'mei-14' 'jun-14' 'jul-14' 'aug-14'\n",
      " 'sep-14' 'okt-14' 'nov-14' 'dec-14' 'jan-15' 'feb-15' 'mrt-15' 'apr-15'\n",
      " 'mei-15' 'jun-15' 'jul-15' 'aug-15' 'sep-15' 'okt-15' 'nov-15' 'dec-15'\n",
      " 'jan-16' 'feb-16' 'mrt-16' 'apr-16' 'mei-16' 'jun-16' 'jul-16' 'aug-16'\n",
      " 'sep-16' 'okt-16' 'nov-16' 'dec-16' 'jan-17' 'feb-17' 'mrt-17' 'apr-17'\n",
      " 'mei-17' 'jun-17' 'jul-17' 'aug-17' 'sep-17' 'okt-17' 'nov-17' 'dec-17'\n",
      " 'jan-18' 'feb-18' 'mrt-18' 'apr-18' 'mei-18' 'jun-18' 'jul-18' 'aug-18'\n",
      " 'sep-18' 'okt-18' 'nov-18' 'dec-18' 'jan-19' 'feb-19' 'mrt-19' 'apr-19'\n",
      " 'mei-19' 'jun-19' 'jul-19' 'aug-19' 'sep-19' 'okt-19' 'nov-19' 'dec-19']\n"
     ]
    },
    {
     "ename": "AttributeError",
     "evalue": "'str' object has no attribute 'write'",
     "output_type": "error",
     "traceback": [
      "\u001b[1;31m---------------------------------------------------------------------------\u001b[0m",
      "\u001b[1;31mAttributeError\u001b[0m                            Traceback (most recent call last)",
      "\u001b[1;32m<ipython-input-42-b2c928d25fa4>\u001b[0m in \u001b[0;36m<module>\u001b[1;34m\u001b[0m\n\u001b[0;32m     14\u001b[0m \u001b[1;33m\u001b[0m\u001b[0m\n\u001b[0;32m     15\u001b[0m \u001b[0mfolder\u001b[0m \u001b[1;33m=\u001b[0m \u001b[1;34mr'D:\\voorCindy\\data\\availability\\superficial'\u001b[0m\u001b[1;33m\u001b[0m\u001b[1;33m\u001b[0m\u001b[0m\n\u001b[1;32m---> 16\u001b[1;33m \u001b[0mxlsx2json\u001b[0m\u001b[1;33m(\u001b[0m\u001b[0mfolder\u001b[0m\u001b[1;33m,\u001b[0m \u001b[1;34m'availab_surf'\u001b[0m\u001b[1;33m)\u001b[0m\u001b[1;33m\u001b[0m\u001b[1;33m\u001b[0m\u001b[0m\n\u001b[0m",
      "\u001b[1;32m<ipython-input-42-b2c928d25fa4>\u001b[0m in \u001b[0;36mxlsx2json\u001b[1;34m(folder, filename)\u001b[0m\n\u001b[0;32m     11\u001b[0m     \u001b[1;32mfor\u001b[0m \u001b[0mname\u001b[0m \u001b[1;32min\u001b[0m \u001b[0mdata\u001b[0m\u001b[1;33m.\u001b[0m\u001b[0mindex\u001b[0m\u001b[1;33m:\u001b[0m\u001b[1;33m\u001b[0m\u001b[1;33m\u001b[0m\u001b[0m\n\u001b[0;32m     12\u001b[0m         \u001b[0mprint\u001b[0m\u001b[1;33m(\u001b[0m\u001b[0mdata\u001b[0m\u001b[1;33m.\u001b[0m\u001b[0mcolumns\u001b[0m\u001b[1;33m.\u001b[0m\u001b[0mvalues\u001b[0m\u001b[1;33m)\u001b[0m\u001b[1;33m\u001b[0m\u001b[1;33m\u001b[0m\u001b[0m\n\u001b[1;32m---> 13\u001b[1;33m         \u001b[0mjson\u001b[0m\u001b[1;33m.\u001b[0m\u001b[0mdump\u001b[0m\u001b[1;33m(\u001b[0m\u001b[0mtemplate\u001b[0m\u001b[1;33m,\u001b[0m \u001b[1;34mf'lima/{filename}_{name}.json'\u001b[0m\u001b[1;33m)\u001b[0m\u001b[1;33m\u001b[0m\u001b[1;33m\u001b[0m\u001b[0m\n\u001b[0m\u001b[0;32m     14\u001b[0m \u001b[1;33m\u001b[0m\u001b[0m\n\u001b[0;32m     15\u001b[0m \u001b[0mfolder\u001b[0m \u001b[1;33m=\u001b[0m \u001b[1;34mr'D:\\voorCindy\\data\\availability\\superficial'\u001b[0m\u001b[1;33m\u001b[0m\u001b[1;33m\u001b[0m\u001b[0m\n",
      "\u001b[1;32mc:\\users\\vries_cy\\appdata\\local\\continuum\\anaconda3\\envs\\pynew\\lib\\json\\__init__.py\u001b[0m in \u001b[0;36mdump\u001b[1;34m(obj, fp, skipkeys, ensure_ascii, check_circular, allow_nan, cls, indent, separators, default, sort_keys, **kw)\u001b[0m\n\u001b[0;32m    178\u001b[0m     \u001b[1;31m# a debuggability cost\u001b[0m\u001b[1;33m\u001b[0m\u001b[1;33m\u001b[0m\u001b[1;33m\u001b[0m\u001b[0m\n\u001b[0;32m    179\u001b[0m     \u001b[1;32mfor\u001b[0m \u001b[0mchunk\u001b[0m \u001b[1;32min\u001b[0m \u001b[0miterable\u001b[0m\u001b[1;33m:\u001b[0m\u001b[1;33m\u001b[0m\u001b[1;33m\u001b[0m\u001b[0m\n\u001b[1;32m--> 180\u001b[1;33m         \u001b[0mfp\u001b[0m\u001b[1;33m.\u001b[0m\u001b[0mwrite\u001b[0m\u001b[1;33m(\u001b[0m\u001b[0mchunk\u001b[0m\u001b[1;33m)\u001b[0m\u001b[1;33m\u001b[0m\u001b[1;33m\u001b[0m\u001b[0m\n\u001b[0m\u001b[0;32m    181\u001b[0m \u001b[1;33m\u001b[0m\u001b[0m\n\u001b[0;32m    182\u001b[0m \u001b[1;33m\u001b[0m\u001b[0m\n",
      "\u001b[1;31mAttributeError\u001b[0m: 'str' object has no attribute 'write'"
     ]
    }
   ],
   "source": [
    "from pathlib import Path\n",
    "import pandas as pd\n",
    "import json\n",
    "\n",
    "def xlsx2json(folder, filename):\n",
    "    with open('line_chart_template.json') as json_data:\n",
    "        template = json.load(json_data)\n",
    "    data = pd.read_csv(f'{folder}/{filename}.csv', delimiter=';', index_col=0)\n",
    "    template['data']['labels'] = data.columns.values\n",
    "    \n",
    "    for name in data.index:\n",
    "        print(data.columns.values)\n",
    "        with open('lima/{filename}_{name}.json', 'w') as outfile:\n",
    "            json.dump(template, outfile)\n",
    "\n",
    "folder = r'D:\\voorCindy\\data\\availability\\superficial'\n",
    "xlsx2json(folder, 'availab_surf')\n"
   ]
  },
  {
   "cell_type": "code",
   "execution_count": 14,
   "id": "97f3a3c9",
   "metadata": {},
   "outputs": [
    {
     "name": "stdout",
     "output_type": "stream",
     "text": [
      "cp037 :\n",
      "                                                &.\u0003\n",
      "0       é%õ$\u00173\u0014\u0018Ý¹\u0017ßâ T%\u0006³ß|-\u000b",
      "xýÝÊ1\u0015Ùç¤ábuÐîý·°»µ\u0018\n",
      "1                                    ÕÕL§<½¹Â\u0006¦\n",
      "2                                    \b©XA2+Zâ¿h\u001aä\n",
      "3  ¨W¡\u00029QÔ\u0015IBß\u0002.Í\u0018ÂÌcê\u0005¢úï¯¯é\u0016î®ºË\u001d",
      "í\u0006m7ý£...\n",
      "4  \u001ah<ÖKr",
      "HËÂÅRÞ@H%59íëÇÑ^ÂÆÊ`¬À%{3àº×\u0013Ù@\u0005+...\n",
      "cp273 :\n",
      "                                                &.\u0003\n",
      "0       é%õ$\u00173\u0014\u0018Ý¹\u0017~â T%\u0006³~!-\u000b",
      "xýÝÊ1\u0015Ùç¤ábuÐîý·°»µ\u0018\n",
      "1                                    ÕÕL@<½¹Â\u0006ö\n",
      "2                                    \b©XA2+Zâ¿h\u001a{\n",
      "3  ¨W¡\u00029QÔ\u0015IB~\u0002.Í\u0018ÂÌcê\u0005Äúï‾‾é\u0016î®ºË\u001d",
      "í\u0006m7ý£...\n",
      "4  \u001ah<\\Kr",
      "HËÂÅRÞ§H%59íëÇÑ¢ÂÆÊ`^À%ä3àº×\u0013Ù§\u0005+...\n",
      "cp500 :\n",
      "                                                &.\u0003\n",
      "0       é%õ$\u00173\u0014\u0018Ý¹\u0017ßâ T%\u0006³ß!-\u000b",
      "xýÝÊ1\u0015Ùç¤ábuÐîý·°»µ\u0018\n",
      "1                                    ÕÕL§<½¹Â\u0006¦\n",
      "2                                    \b©XA2+Zâ¿h\u001aä\n",
      "3  ¨W¡\u00029QÔ\u0015IBß\u0002.Í\u0018ÂÌcê\u0005[úï¯¯é\u0016î®ºË\u001d",
      "í\u0006m7ý£...\n",
      "4  \u001ah<ÖKr",
      "HËÂÅRÞ@H%59íëÇÑ¢ÂÆÊ`^À%{3àº×\u0013Ù@\u0005+...\n",
      "cp875 :\n",
      "                                                &.\u0003\n",
      "0       Κ%―$\u00173\u0014\u0018π±\u0017ΣΒ T%\u0006³Σ!-\u000b",
      "xδπΈ1\u0015\u001aΘμΕbuοΟδή°β´\u0018\n",
      "1                                    ¬¬Lί<ϋ±Τ\u0006|\n",
      "2                                    \bϊXA2+ZΒξh\u001aΓ\n",
      "3  φWν\u00029Q§\u0015IBΣ\u0002.Ί\u0018ΤΏcΛ\u0005[’ΠυυΚ\u0016ΟσθΉ\u001d",
      "Ξ\u0006m7δά...\n",
      "4  \u001ah<\u001aKr",
      "HΉΤΩRρ@H%59ΞΜΪΫ£ΤλΈ`^Φ%{3Δθψ\u0013\u001a@\u0005+...\n",
      "cp1026 :\n",
      "                                                &.\u0003\n",
      "0       é%õİ\u00173\u0014\u0018$¹\u0017ßâ T%\u0006³ß!-\u000b",
      "x`$Ê1\u0015Ù{¤ábu]î`·°»µ\u0018\n",
      "1                                    ÕÕL§<½¹Â\u0006ş\n",
      "2                                    \b©XA2+Zâ¿h\u001aä\n",
      "3  ¨W¡\u00029QÔ\u0015IBß\u0002.Í\u0018ÂÌcê\u0005Çúï¯¯é\u0016î®ºË\u001d",
      "í\u0006m7`£...\n",
      "4  \u001ah<#Kr",
      "HËÂÅR@ŞH%59íë[Ñ¢ÂÆÊı^À%ç3àº×\u0013ÙŞ\u0005+...\n",
      "cp1140 :\n",
      "                                                &.\u0003\n",
      "0       é%õ$\u00173\u0014\u0018Ý¹\u0017ßâ T%\u0006³ß|-\u000b",
      "xýÝÊ1\u0015Ùç€ábuÐîý·°»µ\u0018\n",
      "1                                    ÕÕL§<½¹Â\u0006¦\n",
      "2                                    \b©XA2+Zâ¿h\u001aä\n",
      "3  ¨W¡\u00029QÔ\u0015IBß\u0002.Í\u0018ÂÌcê\u0005¢úï¯¯é\u0016î®ºË\u001d",
      "í\u0006m7ý£...\n",
      "4  \u001ah<ÖKr",
      "HËÂÅRÞ@H%59íëÇÑ^ÂÆÊ`¬À%{3àº×\u0013Ù@\u0005+...\n"
     ]
    }
   ],
   "source": [
    "encoding_list = ['ascii', 'big5', 'big5hkscs', 'cp037', 'cp273', 'cp424', 'cp437', 'cp500', 'cp720', 'cp737'\n",
    "                 , 'cp775', 'cp850', 'cp852', 'cp855', 'cp856', 'cp857', 'cp858', 'cp860', 'cp861', 'cp862'\n",
    "                 , 'cp863', 'cp864', 'cp865', 'cp866', 'cp869', 'cp874', 'cp875', 'cp932', 'cp949', 'cp950'\n",
    "                 , 'cp1006', 'cp1026', 'cp1125', 'cp1140', 'cp1250', 'cp1251', 'cp1252', 'cp1253', 'cp1254'\n",
    "                 , 'cp1255', 'cp1256', 'cp1257', 'cp1258', 'euc_jp', 'euc_jis_2004', 'euc_jisx0213', 'euc_kr'\n",
    "                 , 'gb2312', 'gbk', 'gb18030', 'hz', 'iso2022_jp', 'iso2022_jp_1', 'iso2022_jp_2'\n",
    "                 , 'iso2022_jp_2004', 'iso2022_jp_3', 'iso2022_jp_ext', 'iso2022_kr', 'latin_1', 'iso8859_2'\n",
    "                 , 'iso8859_3', 'iso8859_4', 'iso8859_5', 'iso8859_6', 'iso8859_7', 'iso8859_8', 'iso8859_9'\n",
    "                 , 'iso8859_10', 'iso8859_11', 'iso8859_13', 'iso8859_14', 'iso8859_15', 'iso8859_16', 'johab'\n",
    "                 , 'koi8_r', 'koi8_t', 'koi8_u', 'kz1048', 'mac_cyrillic', 'mac_greek', 'mac_iceland', 'mac_latin2'\n",
    "                 , 'mac_roman', 'mac_turkish', 'ptcp154', 'shift_jis', 'shift_jis_2004', 'shift_jisx0213', 'utf_32'\n",
    "                 , 'utf_32_be', 'utf_32_le', 'utf_16', 'utf_16_be', 'utf_16_le', 'utf_7', 'utf_8', 'utf_8_sig']\n",
    "\n",
    "for encoding in encoding_list:\n",
    "    worked = True\n",
    "    try:\n",
    "        df = pd.read_csv(file, encoding=encoding, nrows=5)\n",
    "    except:\n",
    "        worked = False\n",
    "    if worked:\n",
    "        print(encoding, ':\\n', df.head())"
   ]
  },
  {
   "cell_type": "code",
   "execution_count": null,
   "id": "de972f7c",
   "metadata": {},
   "outputs": [],
   "source": []
  }
 ],
 "metadata": {
  "kernelspec": {
   "display_name": "Python 3",
   "language": "python",
   "name": "python3"
  },
  "language_info": {
   "codemirror_mode": {
    "name": "ipython",
    "version": 3
   },
   "file_extension": ".py",
   "mimetype": "text/x-python",
   "name": "python",
   "nbconvert_exporter": "python",
   "pygments_lexer": "ipython3",
   "version": "3.7.9"
  }
 },
 "nbformat": 4,
 "nbformat_minor": 5
}
